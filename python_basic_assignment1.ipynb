{
 "cells": [
  {
   "cell_type": "markdown",
   "metadata": {},
   "source": [
    "# python_basics_assignment1"
   ]
  },
  {
   "cell_type": "raw",
   "metadata": {},
   "source": [
    "1. In the below elements which of them are values or an expression? eg:- values can be integer or string and expressions will be mathematical operators.\n",
    "* \n",
    "'hello'\n",
    "-87.8\n",
    "- \n",
    "/ \n",
    "+\n",
    "6\n",
    "answer:1)values:     'hello',-87.8,6\n",
    "       2)expression:  -,/,+,*"
   ]
  },
  {
   "cell_type": "raw",
   "metadata": {},
   "source": [
    "2. What is the difference between string and variable?\n",
    "\n",
    "\n",
    "answer:string is a series of character which can also contain numbers and spaces,something which is written inside a quote is a string in python. e.g \"my name is radhika\" , \"i am 23 years old\"\n",
    "\n",
    "variable is any container with a symbolic name that stores data, it  work as temporary storage locations , a variable is used to represent any value.e.g x=10    (here x is a variable)\n",
    "\n"
   ]
  },
  {
   "cell_type": "raw",
   "metadata": {},
   "source": [
    "3. Describe three different data types.\n",
    "\n",
    "answer:integer-integer is a data type which only stores numeric values.in python it is represented as int()\n",
    "\n",
    "float-float is a numeric data type which contain numbers in decimal format.in python it is represented as float()\n",
    "\n",
    "boolean-boolean is a data type which contains only two values in the form of true and false.true has a value 1 and false has a value 0.in python it is represented as bool()"
   ]
  },
  {
   "cell_type": "raw",
   "metadata": {},
   "source": [
    "4. What is an expression made up of? What do all expressions do?\n",
    "\n",
    "\n",
    "answer:an expression is made up of mathematical operators and (values)operands.expression evaluates a new value."
   ]
  },
  {
   "cell_type": "raw",
   "metadata": {},
   "source": [
    "5. This assignment statements, like spam = 10. What is the difference between an expression and a statement?\n",
    "\n",
    "answer:an expression is made up of mathematical operators and (values)operands.e.g-a=3-2\n",
    "whereas instructions or commands that python executes is a statement.e.g-print()"
   ]
  },
  {
   "cell_type": "raw",
   "metadata": {},
   "source": [
    "6. After running the following code, what does the variable bacon contain?\n",
    "bacon = 22\n",
    " bacon + 1\n",
    "\n",
    "\n",
    "answer:variable bacon contain the value 22 after the execution and the final result after bacon+1 will be 23\n"
   ]
  },
  {
   "cell_type": "raw",
   "metadata": {},
   "source": [
    "7. What should the values of the following two terms be?\n",
    "'spam' + 'spamspam'\n",
    "'spam' * 3\n",
    "\n",
    "answer: both the answers will be similar which is'spamspamspam'\n"
   ]
  },
  {
   "cell_type": "raw",
   "metadata": {},
   "source": [
    "8. Why is eggs a valid variable name while 100 is invalid?\n",
    "\n",
    "answer:a variable can not be an absolute numerical value also it can not start with a number. e.g-variable name can be egg100 but it cant be 100egg or just 100"
   ]
  },
  {
   "cell_type": "raw",
   "metadata": {},
   "source": [
    "9. What three functions can be used to get the integer, floating-point number, or string version of a value?\n",
    "\n",
    "answer:int()\n",
    "       float()\n",
    "       str()\n"
   ]
  },
  {
   "cell_type": "raw",
   "metadata": {},
   "source": [
    "10. Why does this expression cause an error? How can you fix it?\n",
    "'I have eaten ' + 99 + ' burritos.'\n",
    "\n",
    "answer:an integer cannot be concatenated with a string so to resolve the issue we can convert the integer value into a string\n",
    "'I have eaten ' + str(99) + ' burritos.'"
   ]
  }
 ],
 "metadata": {
  "kernelspec": {
   "display_name": "Python 3",
   "language": "python",
   "name": "python3"
  },
  "language_info": {
   "codemirror_mode": {
    "name": "ipython",
    "version": 3
   },
   "file_extension": ".py",
   "mimetype": "text/x-python",
   "name": "python",
   "nbconvert_exporter": "python",
   "pygments_lexer": "ipython3",
   "version": "3.8.5"
  }
 },
 "nbformat": 4,
 "nbformat_minor": 4
}
