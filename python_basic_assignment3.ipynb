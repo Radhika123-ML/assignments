{
 "cells": [
  {
   "cell_type": "markdown",
   "metadata": {},
   "source": [
    "# python_basic_assignment3"
   ]
  },
  {
   "cell_type": "raw",
   "metadata": {},
   "source": [
    "1. Why are functions advantageous to have in your programs?\n",
    "answer:there is a complex algorithm built inside a function so it prevents us from writing the entire code, it makes the coding process shorter,faster and easier.\n",
    "\n",
    "\n",
    "2. When does the code in a function run: when it's specified or when it's called?\n",
    "answer:when the function is called.\n",
    "\n",
    "\n",
    "3. What statement creates a function?\n",
    "answer:def statement creates function.\n",
    "\n",
    "\n",
    "4. What is the difference between a function and a function call?\n",
    "answer:a function is a set of programming statements enclosed under def statement\n",
    "and function call is when the control and execution of the programme is attributed to a function. \n",
    "\n",
    "\n",
    "5. How many global scopes are there in a Python program? How many local scopes?\n",
    "answer:there is one global scope in python program and local scope is created each time the function is called.\n",
    "\n",
    "\n",
    "6. What happens to variables in a local scope when the function call returns?\n",
    "answer: all the variables inside the function get ereased.\n",
    "\n",
    "\n",
    "7. What is the concept of a return value? Is it possible to have a return value in an expression?\n",
    "answer:values evaluated after the function is called are called return values.yes it is used as an expression.\n",
    "\n",
    "\n",
    "8. If a function does not have a return statement, what is the return value of a call to that function?\n",
    "answer:it will be none.\n",
    "\n",
    "\n",
    "9. How do you make a function variable refer to the global variable?\n",
    "answer:a global ststement will force a variable in a function.\n",
    "\n",
    "\n",
    "10. What is the data type of None?\n",
    "answer:None\n",
    "\n",
    "\n",
    "11. What does the sentence import areallyourpetsnamederic do?\n",
    "answer:import statement will imoort the areallyourpetsnamederi module.\n",
    "\n",
    "\n",
    "12. If you had a bacon() feature in a spam module, what would you call it after importing spam?\n",
    "answer:spam.bacon()\n",
    "\n",
    "\n",
    "13. What can you do to save a programme from crashing if it encounters an error?\n",
    "answer:we will make use of try clause and put the possible error line of code here.\n",
    "\n",
    "\n",
    "14. What is the purpose of the try clause? What is the purpose of the except clause?\n",
    "answer:code which can cause error goes to try clause and the coad which executes even after error  goes to except clause."
   ]
  }
 ],
 "metadata": {
  "kernelspec": {
   "display_name": "Python 3",
   "language": "python",
   "name": "python3"
  },
  "language_info": {
   "codemirror_mode": {
    "name": "ipython",
    "version": 3
   },
   "file_extension": ".py",
   "mimetype": "text/x-python",
   "name": "python",
   "nbconvert_exporter": "python",
   "pygments_lexer": "ipython3",
   "version": "3.8.5"
  }
 },
 "nbformat": 4,
 "nbformat_minor": 4
}
