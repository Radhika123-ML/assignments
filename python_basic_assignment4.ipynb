{
 "cells": [
  {
   "cell_type": "markdown",
   "metadata": {},
   "source": [
    "# python_basic_assignment4"
   ]
  },
  {
   "cell_type": "raw",
   "metadata": {},
   "source": [
    "1. What exactly is []?\n",
    "answer:empty list value\n",
    "\n",
    "\n",
    "2. In a list of values stored in a variable called spam, how would you assign the value 'hello' as the third value? (Assume [2, 4, 6, 8, 10] are in spam.)\n",
    "answer:spam[2]=\"hello\"\n",
    "\n",
    "\n",
    "Let's pretend the spam includes the list ['a', 'b', 'c', 'd'] for the next three queries.\n",
    "3. What is the value of spam[int(int('3' * 2) / 11)]?\n",
    "answer:['a','b']\n",
    "\n",
    "\n",
    "4. What is the value of spam[-1]?\n",
    "answer:\"d\"\n",
    "\n",
    "\n",
    "5. What is the value of spam[:2]?\n",
    "answer:\"c\"\n",
    "\n",
    "\n",
    "Let's pretend bacon has the list [3.14, 'cat,' 11, 'cat,' True] for the next three questions.\n",
    "6. What is the value of bacon.index('cat')?\n",
    "answer:[1]\n",
    "\n",
    "\n",
    "7. How does bacon.append(99) change the look of the list value in bacon?\n",
    "answer:[3.14, 'cat,' 11, 'cat,' True,99]\n",
    "\n",
    "\n",
    "8. How does bacon.remove('cat') change the look of the list in bacon?\n",
    "answer:[3.14, 'cat,' 11, True]\n",
    "\n",
    "\n",
    "9. What are the list concatenation and list replication operators?\n",
    "answer: + is for concatenation and * is for replication.\n",
    "\n",
    "\n",
    "10. What is difference between the list methods append() and insert()?\n",
    "answer:append adds the element at the end of the list whereas insert randomly inserts an element in the list.\n",
    "\n",
    "\n",
    "11. What are the two methods for removing items from a list?\n",
    "answer:using remove() and del statement.\n",
    "\n",
    "\n",
    "12. Describe how list values and string values are identical.\n",
    "answer:both works in similar fashion in case on concatenation,in for loop,both have indexes,both can be sliced,etc.\n",
    "\n",
    "\n",
    "13. What's the difference between tuples and lists?\n",
    "answer:lists are mutable and tuples are immutable.\n",
    "\n",
    "\n",
    "14. How do you type a tuple value that only contains the integer 42?\n",
    "answer:(42,)\n",
    "\n",
    "\n",
    "15. How do you get a list value's tuple form? How do you get a tuple value's list form?\n",
    "answer:using the tuple() and list() respectively.\n",
    "\n",
    "\n",
    "16. Variables that \"contain\" list values are not necessarily lists themselves. Instead, what do they contain?\n",
    "answer:information of the list values.e.g. index\n",
    "\n",
    "\n",
    "17. How do you distinguish between copy.copy() and copy.deepcopy()?\n",
    "answer:to copy the list inside list we use copy.deepcopy() and for shallow copy of list we use copy.copy()\n"
   ]
  },
  {
   "cell_type": "code",
   "execution_count": null,
   "metadata": {},
   "outputs": [],
   "source": []
  }
 ],
 "metadata": {
  "kernelspec": {
   "display_name": "Python 3",
   "language": "python",
   "name": "python3"
  },
  "language_info": {
   "codemirror_mode": {
    "name": "ipython",
    "version": 3
   },
   "file_extension": ".py",
   "mimetype": "text/x-python",
   "name": "python",
   "nbconvert_exporter": "python",
   "pygments_lexer": "ipython3",
   "version": "3.8.5"
  }
 },
 "nbformat": 4,
 "nbformat_minor": 4
}
