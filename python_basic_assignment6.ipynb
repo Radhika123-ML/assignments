{
 "cells": [
  {
   "cell_type": "markdown",
   "metadata": {},
   "source": [
    "# python_basic_assignment6"
   ]
  },
  {
   "cell_type": "raw",
   "metadata": {},
   "source": [
    "1. What are escape characters, and how do you use them?\n",
    "answer:\\ backlash is a escape character which helps to insert illegal characters to the string.e.g- \\' , \\\\\n",
    "\n",
    "\n",
    "\n",
    "\n",
    "2. What do the escape characters n and t stand for?\n",
    "answer: \\n-newline and \\t-tab\n",
    "\n",
    "\n",
    "\n",
    "\n",
    "3. What is the way to include backslash characters in a string?\n",
    "answer: \\\\ typing the backslash twice will include \\ in a string.\n",
    "\n",
    "\n",
    "\n",
    "\n",
    "4. The string \"Howl's Moving Castle\" is a correct value. Why isn't the single quote character in the word Howl's not escaped a problem?\n",
    "answer:because the entire string is double quoted.\n",
    "\n",
    "\n",
    "\n",
    "\n",
    "5. How do you write a string of newlines if you don't want to use the n character?\n",
    "answer:print('''my name is radhika\n",
    "        and i am an indian''')\n",
    "\n",
    "\n",
    "\n",
    "        \n",
    "6. What are the values of the given expressions?\n",
    "'Hello, world!'[1]\n",
    "'Hello, world!'[0:5]\n",
    "'Hello, world!'[:5]\n",
    "'Hello, world!'[3:]\n",
    "\n",
    "answer:'Hello, world!'[1]--------e\n",
    "       'Hello, world!'[0:5]------Hello,\n",
    "       'Hello, world!'[:5]-------Hello,\n",
    "       'Hello, world!'[3:]-------lo, world!\n",
    "       \n",
    "       \n",
    "       \n",
    "       \n",
    "\n",
    "7. What are the values of the following expressions?\n",
    "'Hello'.upper()\n",
    "'Hello'.upper().isupper()\n",
    "'Hello'.upper().lower()\n",
    "\n",
    "answer:'Hello'.upper()----------------------HELLO\n",
    "       'Hello'.upper().isupper()-----------True\n",
    "       'Hello'.upper().lower()-------------hello\n",
    "       \n",
    "       \n",
    "       \n",
    "       \n",
    "      \n",
    "8. What are the values of the following expressions?\n",
    "'Remember, remember, the fifth of July.'.split()\n",
    "'-'.join('There can only one.'.split())\n",
    "\n",
    "answer: ['Remember,', 'remember,', 'the', 'fifth', 'of', 'July.']\n",
    "        'There-can-only-one.'\n",
    "        \n",
    "        \n",
    "        \n",
    "        \n",
    "9. What are the methods for right-justifying, left-justifying, and centering a string?\n",
    "answer:rjust(),ljust().center()\n",
    "\n",
    "\n",
    "\n",
    "\n",
    "10. What is the best way to remove whitespace characters from the start or end?\n",
    "answer:lstrip() and rstrip()\n",
    "\n"
   ]
  },
  {
   "cell_type": "code",
   "execution_count": null,
   "metadata": {},
   "outputs": [],
   "source": []
  },
  {
   "cell_type": "code",
   "execution_count": null,
   "metadata": {},
   "outputs": [],
   "source": []
  },
  {
   "cell_type": "code",
   "execution_count": null,
   "metadata": {},
   "outputs": [],
   "source": []
  },
  {
   "cell_type": "code",
   "execution_count": null,
   "metadata": {},
   "outputs": [],
   "source": []
  }
 ],
 "metadata": {
  "kernelspec": {
   "display_name": "Python 3",
   "language": "python",
   "name": "python3"
  },
  "language_info": {
   "codemirror_mode": {
    "name": "ipython",
    "version": 3
   },
   "file_extension": ".py",
   "mimetype": "text/x-python",
   "name": "python",
   "nbconvert_exporter": "python",
   "pygments_lexer": "ipython3",
   "version": "3.8.5"
  }
 },
 "nbformat": 4,
 "nbformat_minor": 4
}
