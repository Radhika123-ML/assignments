{
 "cells": [
  {
   "cell_type": "markdown",
   "metadata": {},
   "source": [
    "# python_basic_assignment5"
   ]
  },
  {
   "cell_type": "raw",
   "metadata": {},
   "source": [
    "1. What does an empty dictionary's code look like?\n",
    "answer:dict={} or d=dict{}\n",
    "\n",
    "\n",
    "\n",
    "2. What is the value of a dictionary value with the key 'foo' and the value 42?\n",
    "answer:dict{\"foo\":42}\n",
    "\n",
    "\n",
    "\n",
    "3. What is the most significant distinction between a dictionary and a list?\n",
    "answer:\n",
    "1.dictionary is represented by {} whereas list is represented by []\n",
    "2.dictionaries are accessed via keys and lists are assesed via position(index)\n",
    "3.dictionaries are unordered sets and lists are ordered sequence of objects.\n",
    "\n",
    "\n",
    "\n",
    "4. What happens if you try to access spam['foo'] if spam is {'bar': 100}?\n",
    "answer:we will recieve key error.\n",
    "\n",
    "\n",
    "\n",
    "\n",
    "5. If a dictionary is stored in spam, what is the difference between the expressions 'cat' in spam and 'cat' in spam.keys()?\n",
    "answer:there is no difference both way are detecting 'cat' in spam as keys.\n",
    "\n",
    "\n",
    "\n",
    "\n",
    "6. If a dictionary is stored in spam, what is the difference between the expressions 'cat' in spam and 'cat' in spam.values()?\n",
    "answer:'cat' in spam will find 'cat' as a key in spam whereas 'cat' in spam.values() will try to find 'cat' in values of spam.\n",
    "\n",
    "\n",
    "\n",
    "7. What is a shortcut for the following code?\n",
    "if 'color' not in spam:\n",
    "spam['color'] = 'black'\n",
    "answer:spam.setdefault('color','black')\n",
    "\n",
    "\n",
    "\n",
    "\n",
    "8. How do you \"pretty print\" dictionary values using which module and function?\n",
    "answer:\n",
    "1. pprint()               (pprint module)\n",
    "2.json.dumps()            (dumps function of json module)\n",
    "3.yaml.dump()             (dumps() function of yaml module)\n"
   ]
  }
 ],
 "metadata": {
  "kernelspec": {
   "display_name": "Python 3",
   "language": "python",
   "name": "python3"
  },
  "language_info": {
   "codemirror_mode": {
    "name": "ipython",
    "version": 3
   },
   "file_extension": ".py",
   "mimetype": "text/x-python",
   "name": "python",
   "nbconvert_exporter": "python",
   "pygments_lexer": "ipython3",
   "version": "3.8.5"
  }
 },
 "nbformat": 4,
 "nbformat_minor": 4
}
