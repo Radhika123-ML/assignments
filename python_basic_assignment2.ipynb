{
 "cells": [
  {
   "cell_type": "markdown",
   "metadata": {},
   "source": [
    "# python_basic_assignment2\n"
   ]
  },
  {
   "cell_type": "raw",
   "metadata": {},
   "source": [
    "1.What are the two values of the Boolean data type? How do you write them?\n",
    "answer:two types are True and False.\n",
    "\n",
    "\n",
    "2. What are the three different types of Boolean operators?\n",
    "answer:and ,or, not\n",
    "\n",
    "\n",
    "3. Make a list of each Boolean operator's truth tables (i.e. every possible combination of Boolean values for the operator and what it evaluate ).\n",
    "\n",
    "answer:   \n",
    "          AND                      OR                       NOT\n",
    "       A   B   Output          A   B   Output          INPUT   OUTPUT   \n",
    "       0   0    0              0   0    0               1        0\n",
    "       0   1    0              0   1    1               0        1\n",
    "       1   0    0              1   0    1\n",
    "       1   1    1              1   1    1\n",
    "\n",
    "\n",
    "4. What are the values of the following expressions?\n",
    "\n",
    "answer:\n",
    "(5 > 4) and (3 == 5)              ---------false\n",
    "not (5 > 4)                       ---------false           \n",
    "(5 > 4) or (3 == 5)               ---------true\n",
    "not ((5 > 4) or (3 == 5))         ---------false\n",
    "(True and True) and (True == False)--------false\n",
    "(not False) or (not True)          --------true\n",
    "\n",
    "\n",
    "5. What are the six comparison operators?\n",
    "answer:Comparison operators return true or false as per the comparision. The comparison operators are: >, <, >=, <=, ===, and !==.\n",
    "\n",
    "6. How do you tell the difference between the equal to and assignment operators?Describe a condition and when you would use one.\n",
    "answer:equal to isoperator is '==';== operator is used to check if both the values are equal or not.\n",
    "for assignment operator we use '=';= operator is used to assign any value to the variable.\n",
    "\n",
    "7. Identify the three blocks in this code:\n",
    "\n",
    "{spam = 0\n",
    "if spam == 10:\n",
    "print('eggs')}------block 1\n",
    "\n",
    "{if spam > 5:\n",
    "print('bacon')}-----block2\n",
    "\n",
    "{else:\n",
    " print('ham')\n",
    " print('spam')\n",
    " print('spam')}------block3\n",
    "\n",
    "\n",
    "8. Write code that prints Hello if 1 is stored in spam, prints Howdy if 2 is stored in spam, and prints Greetings! if anything else is stored in spam.\n",
    "answer:\n",
    "\n",
    "spam=int(input('enter a number'))\n",
    "if spam==1:\n",
    "    print('hello!')\n",
    "elif spam==2:\n",
    "    print('howdy')\n",
    "else:\n",
    "    print('greetings')\n",
    "\n",
    "\n",
    "\n",
    "9.If your programme is stuck in an endless loop, what keys you’ll press?\n",
    "answer: CTRL+C\n",
    "\n",
    "\n",
    "10. How can you tell the difference between break and continue?\n",
    "answer:break statement terminates the execution of current loop and control again goes to the main body or the next loop  whereas on passing of continue statement the present iteration is skipped and the other iteration is executed.\n",
    "\n",
    "\n",
    "11. In a for loop, what is the difference between range(10), range(0, 10), and range(0, 10, 1)?\n",
    "answer:\n",
    "range(10)-----it represents the sequence of 10 numbers\n",
    "range(0,10)------it represents the sequence of 10 numbers starting from 0(0-9)\n",
    "range(0,10,1)-----it represents the sequence of 10 numbers starting from 0 with steps as 1.i.e every number in o-9 is recognised.\n",
    "\n",
    "12. Write a short program that prints the numbers 1 to 10 using a for loop. Then write an equivalent program that prints the numbers 1 to 10 using a while loop.\n",
    "answer:\n",
    "\n",
    "\n",
    "i = 1\n",
    "while(i<=10):\n",
    "    print(i)\n",
    "    i += 1\n",
    "    \n",
    "\n",
    "for i in range(1, 11):\n",
    "    print(i)\n",
    " \n",
    "\n",
    "\n",
    "\n",
    "13. If you had a function named bacon() inside a module named spam, how would you call it after importing spam?\n",
    "answer: spam.bacon()"
   ]
  },
  {
   "cell_type": "code",
   "execution_count": 3,
   "metadata": {},
   "outputs": [
    {
     "name": "stdout",
     "output_type": "stream",
     "text": [
      "enter a number:1\n",
      "hello!\n"
     ]
    }
   ],
   "source": [
    "spam=int(input('enter a number:'))\n",
    "if spam==1:\n",
    "    print('hello!')\n",
    "elif spam==2:\n",
    "    print('howdy!')\n",
    "else:\n",
    "    print('greetings!')\n"
   ]
  },
  {
   "cell_type": "code",
   "execution_count": 4,
   "metadata": {},
   "outputs": [
    {
     "name": "stdout",
     "output_type": "stream",
     "text": [
      "1\n",
      "2\n",
      "3\n",
      "4\n",
      "5\n",
      "6\n",
      "7\n",
      "8\n",
      "9\n",
      "10\n"
     ]
    }
   ],
   "source": [
    "i = 1\n",
    "while(i<=10):\n",
    "    print(i)\n",
    "    i += 1\n",
    "    \n",
    "\n"
   ]
  },
  {
   "cell_type": "code",
   "execution_count": 5,
   "metadata": {},
   "outputs": [
    {
     "name": "stdout",
     "output_type": "stream",
     "text": [
      "1\n",
      "2\n",
      "3\n",
      "4\n",
      "5\n",
      "6\n",
      "7\n",
      "8\n",
      "9\n",
      "10\n"
     ]
    }
   ],
   "source": [
    "for i in range(1, 11):\n",
    "    print(i)\n",
    " "
   ]
  },
  {
   "cell_type": "code",
   "execution_count": null,
   "metadata": {},
   "outputs": [],
   "source": [
    "       \n"
   ]
  },
  {
   "cell_type": "code",
   "execution_count": null,
   "metadata": {},
   "outputs": [],
   "source": [
    "                            \n"
   ]
  },
  {
   "cell_type": "code",
   "execution_count": null,
   "metadata": {},
   "outputs": [],
   "source": [
    "              \n",
    " "
   ]
  },
  {
   "cell_type": "code",
   "execution_count": null,
   "metadata": {},
   "outputs": [],
   "source": [
    "\n"
   ]
  },
  {
   "cell_type": "code",
   "execution_count": null,
   "metadata": {},
   "outputs": [],
   "source": [
    "\n"
   ]
  },
  {
   "cell_type": "code",
   "execution_count": null,
   "metadata": {},
   "outputs": [],
   "source": []
  },
  {
   "cell_type": "code",
   "execution_count": null,
   "metadata": {},
   "outputs": [],
   "source": []
  }
 ],
 "metadata": {
  "kernelspec": {
   "display_name": "Python 3",
   "language": "python",
   "name": "python3"
  },
  "language_info": {
   "codemirror_mode": {
    "name": "ipython",
    "version": 3
   },
   "file_extension": ".py",
   "mimetype": "text/x-python",
   "name": "python",
   "nbconvert_exporter": "python",
   "pygments_lexer": "ipython3",
   "version": "3.8.5"
  }
 },
 "nbformat": 4,
 "nbformat_minor": 4
}
